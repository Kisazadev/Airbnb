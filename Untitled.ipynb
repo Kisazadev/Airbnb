{
 "cells": [
  {
   "cell_type": "markdown",
   "metadata": {},
   "source": [
    "## Import Libraries"
   ]
  },
  {
   "cell_type": "code",
   "execution_count": 6,
   "metadata": {},
   "outputs": [],
   "source": [
    "import numpy as np\n",
    "import pandas as pd\n",
    "import matplotlib.pyplot as plt\n",
    "import seaborn as sns "
   ]
  },
  {
   "cell_type": "markdown",
   "metadata": {},
   "source": [
    "## Import CSV's"
   ]
  },
  {
   "cell_type": "code",
   "execution_count": 11,
   "metadata": {},
   "outputs": [],
   "source": [
    "calendar = pd.read_csv('/Users/Kevin/gitbasics/introDA/INTRO-TO-DATA-ANALYSIS/AirBnB-/CDMX/calendar.csv.gz')\n",
    "listings = pd.read_csv('/Users/Kevin/gitbasics/introDA/INTRO-TO-DATA-ANALYSIS/AirBnB-/CDMX/listings.csv')\n",
    "neighborhoods = pd.read_csv('/Users/Kevin/gitbasics/introDA/INTRO-TO-DATA-ANALYSIS/AirBnB-/CDMX/neighbourhoods.csv')\n",
    "hoodmap = pd.read_json('/Users/Kevin/gitbasics/introDA/INTRO-TO-DATA-ANALYSIS/AirBnB-/CDMX/neighbourhoods.geojson')\n",
    "review = pd.read_csv('/Users/Kevin/gitbasics/introDA/INTRO-TO-DATA-ANALYSIS/AirBnB-/CDMX/reviews.csv')\n",
    "reviewgz = pd.read_csv('/Users/Kevin/gitbasics/introDA/INTRO-TO-DATA-ANALYSIS/AirBnB-/CDMX/reviews.csv.gz')\n",
    "\n",
    "df1.to_excel(\"output.xlsx\",\n",
    "             sheet_name='Sheet_name_1')  "
   ]
  },
  {
   "cell_type": "code",
   "execution_count": 14,
   "metadata": {},
   "outputs": [
    {
     "data": {
      "text/html": [
       "<div>\n",
       "<style scoped>\n",
       "    .dataframe tbody tr th:only-of-type {\n",
       "        vertical-align: middle;\n",
       "    }\n",
       "\n",
       "    .dataframe tbody tr th {\n",
       "        vertical-align: top;\n",
       "    }\n",
       "\n",
       "    .dataframe thead th {\n",
       "        text-align: right;\n",
       "    }\n",
       "</style>\n",
       "<table border=\"1\" class=\"dataframe\">\n",
       "  <thead>\n",
       "    <tr style=\"text-align: right;\">\n",
       "      <th></th>\n",
       "      <th>listing_id</th>\n",
       "      <th>id</th>\n",
       "      <th>date</th>\n",
       "      <th>reviewer_id</th>\n",
       "      <th>reviewer_name</th>\n",
       "      <th>comments</th>\n",
       "    </tr>\n",
       "  </thead>\n",
       "  <tbody>\n",
       "    <tr>\n",
       "      <th>0</th>\n",
       "      <td>56074</td>\n",
       "      <td>212608709</td>\n",
       "      <td>2017-11-18</td>\n",
       "      <td>72707678</td>\n",
       "      <td>James</td>\n",
       "      <td>I cannot recommend this class enough - Melanie...</td>\n",
       "    </tr>\n",
       "    <tr>\n",
       "      <th>1</th>\n",
       "      <td>56074</td>\n",
       "      <td>213040389</td>\n",
       "      <td>2017-11-19</td>\n",
       "      <td>50188342</td>\n",
       "      <td>Jasmine</td>\n",
       "      <td>It was my very first experience on Airbnb and ...</td>\n",
       "    </tr>\n",
       "    <tr>\n",
       "      <th>2</th>\n",
       "      <td>56074</td>\n",
       "      <td>213040486</td>\n",
       "      <td>2017-11-19</td>\n",
       "      <td>6625678</td>\n",
       "      <td>Logan</td>\n",
       "      <td>This class was so much fun. Definitely a highl...</td>\n",
       "    </tr>\n",
       "    <tr>\n",
       "      <th>3</th>\n",
       "      <td>56074</td>\n",
       "      <td>213716451</td>\n",
       "      <td>2017-11-22</td>\n",
       "      <td>13356954</td>\n",
       "      <td>Jonathan</td>\n",
       "      <td>This was the most fun! Melannie is an artist a...</td>\n",
       "    </tr>\n",
       "    <tr>\n",
       "      <th>4</th>\n",
       "      <td>56074</td>\n",
       "      <td>213738399</td>\n",
       "      <td>2017-11-22</td>\n",
       "      <td>15346822</td>\n",
       "      <td>Adam</td>\n",
       "      <td>What a blast and chance to learn a new skill f...</td>\n",
       "    </tr>\n",
       "  </tbody>\n",
       "</table>\n",
       "</div>"
      ],
      "text/plain": [
       "   listing_id         id        date  reviewer_id reviewer_name  \\\n",
       "0       56074  212608709  2017-11-18     72707678         James   \n",
       "1       56074  213040389  2017-11-19     50188342       Jasmine   \n",
       "2       56074  213040486  2017-11-19      6625678         Logan   \n",
       "3       56074  213716451  2017-11-22     13356954      Jonathan   \n",
       "4       56074  213738399  2017-11-22     15346822          Adam   \n",
       "\n",
       "                                            comments  \n",
       "0  I cannot recommend this class enough - Melanie...  \n",
       "1  It was my very first experience on Airbnb and ...  \n",
       "2  This class was so much fun. Definitely a highl...  \n",
       "3  This was the most fun! Melannie is an artist a...  \n",
       "4  What a blast and chance to learn a new skill f...  "
      ]
     },
     "execution_count": 14,
     "metadata": {},
     "output_type": "execute_result"
    }
   ],
   "source": [
    "reviewgz.head()"
   ]
  }
 ],
 "metadata": {
  "kernelspec": {
   "display_name": "Python 3",
   "language": "python",
   "name": "python3"
  },
  "language_info": {
   "codemirror_mode": {
    "name": "ipython",
    "version": 3
   },
   "file_extension": ".py",
   "mimetype": "text/x-python",
   "name": "python",
   "nbconvert_exporter": "python",
   "pygments_lexer": "ipython3",
   "version": "3.8.3"
  }
 },
 "nbformat": 4,
 "nbformat_minor": 4
}
